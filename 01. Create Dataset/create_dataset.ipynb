{
 "cells": [
  {
   "cell_type": "markdown",
   "id": "15d5b807",
   "metadata": {},
   "source": [
    "<h3>Create dataset and save in csv file</h3>"
   ]
  },
  {
   "cell_type": "code",
   "execution_count": 1,
   "id": "bf5cfafe",
   "metadata": {},
   "outputs": [
    {
     "data": {
      "application/javascript": [
       "\n",
       "            setTimeout(function() {\n",
       "                var nbb_cell_id = 1;\n",
       "                var nbb_unformatted_code = \"# Enable code formatting using external plugin: nb_black.\\n%reload_ext nb_black\";\n",
       "                var nbb_formatted_code = \"# Enable code formatting using external plugin: nb_black.\\n%reload_ext nb_black\";\n",
       "                var nbb_cells = Jupyter.notebook.get_cells();\n",
       "                for (var i = 0; i < nbb_cells.length; ++i) {\n",
       "                    if (nbb_cells[i].input_prompt_number == nbb_cell_id) {\n",
       "                        if (nbb_cells[i].get_text() == nbb_unformatted_code) {\n",
       "                             nbb_cells[i].set_text(nbb_formatted_code);\n",
       "                        }\n",
       "                        break;\n",
       "                    }\n",
       "                }\n",
       "            }, 500);\n",
       "            "
      ],
      "text/plain": [
       "<IPython.core.display.Javascript object>"
      ]
     },
     "metadata": {},
     "output_type": "display_data"
    }
   ],
   "source": [
    "# Enable code formatting using external plugin: nb_black.\n",
    "%reload_ext nb_black"
   ]
  },
  {
   "cell_type": "markdown",
   "id": "e875f151",
   "metadata": {},
   "source": [
    "<h5>Import Libraries</h5>"
   ]
  },
  {
   "cell_type": "code",
   "execution_count": 2,
   "id": "81bcadae",
   "metadata": {},
   "outputs": [
    {
     "data": {
      "application/javascript": [
       "\n",
       "            setTimeout(function() {\n",
       "                var nbb_cell_id = 2;\n",
       "                var nbb_unformatted_code = \"# Data manipulation libraries\\nimport pandas as pd\\n\\n# Data visualization libraries\\n%matplotlib inline\\nimport matplotlib.pyplot as plt\\n\\n# Data modeling libraries\\nfrom sklearn.datasets import make_classification\\nfrom sklearn.model_selection import train_test_split\";\n",
       "                var nbb_formatted_code = \"# Data manipulation libraries\\nimport pandas as pd\\n\\n# Data visualization libraries\\n%matplotlib inline\\nimport matplotlib.pyplot as plt\\n\\n# Data modeling libraries\\nfrom sklearn.datasets import make_classification\\nfrom sklearn.model_selection import train_test_split\";\n",
       "                var nbb_cells = Jupyter.notebook.get_cells();\n",
       "                for (var i = 0; i < nbb_cells.length; ++i) {\n",
       "                    if (nbb_cells[i].input_prompt_number == nbb_cell_id) {\n",
       "                        if (nbb_cells[i].get_text() == nbb_unformatted_code) {\n",
       "                             nbb_cells[i].set_text(nbb_formatted_code);\n",
       "                        }\n",
       "                        break;\n",
       "                    }\n",
       "                }\n",
       "            }, 500);\n",
       "            "
      ],
      "text/plain": [
       "<IPython.core.display.Javascript object>"
      ]
     },
     "metadata": {},
     "output_type": "display_data"
    }
   ],
   "source": [
    "# Data manipulation libraries\n",
    "import pandas as pd\n",
    "\n",
    "# Data visualization libraries\n",
    "%matplotlib inline\n",
    "import matplotlib.pyplot as plt\n",
    "\n",
    "# Data modeling libraries\n",
    "from sklearn.datasets import make_classification\n",
    "from sklearn.model_selection import train_test_split"
   ]
  },
  {
   "cell_type": "markdown",
   "id": "1fb86a31",
   "metadata": {},
   "source": [
    "<h5>Generate a random 2-class classification data.</h5>"
   ]
  },
  {
   "cell_type": "code",
   "execution_count": 3,
   "id": "3f91a678",
   "metadata": {},
   "outputs": [
    {
     "data": {
      "application/javascript": [
       "\n",
       "            setTimeout(function() {\n",
       "                var nbb_cell_id = 3;\n",
       "                var nbb_unformatted_code = \"x, y = make_classification(\\n    n_samples=100,\\n    n_features=2,\\n    n_classes=2,\\n    n_informative=2,\\n    n_redundant=0,\\n    n_clusters_per_class=1,\\n    random_state=23,\\n)\";\n",
       "                var nbb_formatted_code = \"x, y = make_classification(\\n    n_samples=100,\\n    n_features=2,\\n    n_classes=2,\\n    n_informative=2,\\n    n_redundant=0,\\n    n_clusters_per_class=1,\\n    random_state=23,\\n)\";\n",
       "                var nbb_cells = Jupyter.notebook.get_cells();\n",
       "                for (var i = 0; i < nbb_cells.length; ++i) {\n",
       "                    if (nbb_cells[i].input_prompt_number == nbb_cell_id) {\n",
       "                        if (nbb_cells[i].get_text() == nbb_unformatted_code) {\n",
       "                             nbb_cells[i].set_text(nbb_formatted_code);\n",
       "                        }\n",
       "                        break;\n",
       "                    }\n",
       "                }\n",
       "            }, 500);\n",
       "            "
      ],
      "text/plain": [
       "<IPython.core.display.Javascript object>"
      ]
     },
     "metadata": {},
     "output_type": "display_data"
    }
   ],
   "source": [
    "x, y = make_classification(\n",
    "    n_samples=100,\n",
    "    n_features=2,\n",
    "    n_classes=2,\n",
    "    n_informative=2,\n",
    "    n_redundant=0,\n",
    "    n_clusters_per_class=1,\n",
    "    random_state=23,\n",
    ")"
   ]
  },
  {
   "cell_type": "markdown",
   "id": "148d3ff9",
   "metadata": {},
   "source": [
    "<h3>Plotting all the points in scatter plot</h3>"
   ]
  },
  {
   "cell_type": "code",
   "execution_count": 4,
   "id": "42bf4f3d",
   "metadata": {},
   "outputs": [
    {
     "data": {
      "image/png": "[encoded data removed]",
      "text/plain": [
       "<Figure size 640x480 with 1 Axes>"
      ]
     },
     "metadata": {},
     "output_type": "display_data"
    },
    {
     "data": {
      "application/javascript": [
       "\n",
       "            setTimeout(function() {\n",
       "                var nbb_cell_id = 4;\n",
       "                var nbb_unformatted_code = \"plt.scatter(x[:, 0], x[:, 1], c=y)\\nplt.show()\";\n",
       "                var nbb_formatted_code = \"plt.scatter(x[:, 0], x[:, 1], c=y)\\nplt.show()\";\n",
       "                var nbb_cells = Jupyter.notebook.get_cells();\n",
       "                for (var i = 0; i < nbb_cells.length; ++i) {\n",
       "                    if (nbb_cells[i].input_prompt_number == nbb_cell_id) {\n",
       "                        if (nbb_cells[i].get_text() == nbb_unformatted_code) {\n",
       "                             nbb_cells[i].set_text(nbb_formatted_code);\n",
       "                        }\n",
       "                        break;\n",
       "                    }\n",
       "                }\n",
       "            }, 500);\n",
       "            "
      ],
      "text/plain": [
       "<IPython.core.display.Javascript object>"
      ]
     },
     "metadata": {},
     "output_type": "display_data"
    }
   ],
   "source": [
    "plt.scatter(x[:, 0], x[:, 1], c=y)\n",
    "plt.show()"
   ]
  },
  {
   "cell_type": "markdown",
   "id": "3301883b",
   "metadata": {},
   "source": [
    "<h3>Split train-test data in 70-30 respectively</h3>"
   ]
  },
  {
   "cell_type": "code",
   "execution_count": 5,
   "id": "ec7b5af1",
   "metadata": {},
   "outputs": [
    {
     "data": {
      "application/javascript": [
       "\n",
       "            setTimeout(function() {\n",
       "                var nbb_cell_id = 5;\n",
       "                var nbb_unformatted_code = \"X_train, X_test, y_train, y_test = train_test_split(\\n    x, y, stratify=y, random_state=42, test_size=30\\n)\";\n",
       "                var nbb_formatted_code = \"X_train, X_test, y_train, y_test = train_test_split(\\n    x, y, stratify=y, random_state=42, test_size=30\\n)\";\n",
       "                var nbb_cells = Jupyter.notebook.get_cells();\n",
       "                for (var i = 0; i < nbb_cells.length; ++i) {\n",
       "                    if (nbb_cells[i].input_prompt_number == nbb_cell_id) {\n",
       "                        if (nbb_cells[i].get_text() == nbb_unformatted_code) {\n",
       "                             nbb_cells[i].set_text(nbb_formatted_code);\n",
       "                        }\n",
       "                        break;\n",
       "                    }\n",
       "                }\n",
       "            }, 500);\n",
       "            "
      ],
      "text/plain": [
       "<IPython.core.display.Javascript object>"
      ]
     },
     "metadata": {},
     "output_type": "display_data"
    }
   ],
   "source": [
    "X_train, X_test, y_train, y_test = train_test_split(\n",
    "    x, y, stratify=y, random_state=42, test_size=30\n",
    ")"
   ]
  },
  {
   "cell_type": "markdown",
   "id": "c1a3403c",
   "metadata": {},
   "source": [
    "<h3>Merge x and y data by using zip()</h3>"
   ]
  },
  {
   "cell_type": "code",
   "execution_count": 6,
   "id": "d2ad1e39",
   "metadata": {},
   "outputs": [
    {
     "data": {
      "application/javascript": [
       "\n",
       "            setTimeout(function() {\n",
       "                var nbb_cell_id = 6;\n",
       "                var nbb_unformatted_code = \"x_y_data = list(zip(x[:, 0], x[:, 1],y))\\nx_y_train_data = list(zip(X_train[:, 0], X_train[:, 1], y_train))\\nx_y_test_data = list(zip(X_test[:, 0], X_test[:, 1], y_test))\";\n",
       "                var nbb_formatted_code = \"x_y_data = list(zip(x[:, 0], x[:, 1], y))\\nx_y_train_data = list(zip(X_train[:, 0], X_train[:, 1], y_train))\\nx_y_test_data = list(zip(X_test[:, 0], X_test[:, 1], y_test))\";\n",
       "                var nbb_cells = Jupyter.notebook.get_cells();\n",
       "                for (var i = 0; i < nbb_cells.length; ++i) {\n",
       "                    if (nbb_cells[i].input_prompt_number == nbb_cell_id) {\n",
       "                        if (nbb_cells[i].get_text() == nbb_unformatted_code) {\n",
       "                             nbb_cells[i].set_text(nbb_formatted_code);\n",
       "                        }\n",
       "                        break;\n",
       "                    }\n",
       "                }\n",
       "            }, 500);\n",
       "            "
      ],
      "text/plain": [
       "<IPython.core.display.Javascript object>"
      ]
     },
     "metadata": {},
     "output_type": "display_data"
    }
   ],
   "source": [
    "x_y_data = list(zip(x[:, 0], x[:, 1], y))\n",
    "x_y_train_data = list(zip(X_train[:, 0], X_train[:, 1], y_train))\n",
    "x_y_test_data = list(zip(X_test[:, 0], X_test[:, 1], y_test))"
   ]
  },
  {
   "cell_type": "markdown",
   "id": "c11e8954",
   "metadata": {},
   "source": [
    "<h3>Create Dataframe with column name Feature1, Feature2 and Class</h3>"
   ]
  },
  {
   "cell_type": "code",
   "execution_count": 7,
   "id": "1952c16f",
   "metadata": {},
   "outputs": [
    {
     "data": {
      "application/javascript": [
       "\n",
       "            setTimeout(function() {\n",
       "                var nbb_cell_id = 7;\n",
       "                var nbb_unformatted_code = \"df = pd.DataFrame(x_y_data, columns=[\\\"Feature1\\\", \\\"Feature2\\\", \\\"Class\\\"])\\ndf1 = pd.DataFrame(x_y_train_data, columns=[\\\"Feature1\\\", \\\"Feature2\\\", \\\"Class\\\"])\\ndf2 = pd.DataFrame(x_y_test_data, columns=[\\\"Feature1\\\", \\\"Feature2\\\", \\\"Class\\\"])\";\n",
       "                var nbb_formatted_code = \"df = pd.DataFrame(x_y_data, columns=[\\\"Feature1\\\", \\\"Feature2\\\", \\\"Class\\\"])\\ndf1 = pd.DataFrame(x_y_train_data, columns=[\\\"Feature1\\\", \\\"Feature2\\\", \\\"Class\\\"])\\ndf2 = pd.DataFrame(x_y_test_data, columns=[\\\"Feature1\\\", \\\"Feature2\\\", \\\"Class\\\"])\";\n",
       "                var nbb_cells = Jupyter.notebook.get_cells();\n",
       "                for (var i = 0; i < nbb_cells.length; ++i) {\n",
       "                    if (nbb_cells[i].input_prompt_number == nbb_cell_id) {\n",
       "                        if (nbb_cells[i].get_text() == nbb_unformatted_code) {\n",
       "                             nbb_cells[i].set_text(nbb_formatted_code);\n",
       "                        }\n",
       "                        break;\n",
       "                    }\n",
       "                }\n",
       "            }, 500);\n",
       "            "
      ],
      "text/plain": [
       "<IPython.core.display.Javascript object>"
      ]
     },
     "metadata": {},
     "output_type": "display_data"
    }
   ],
   "source": [
    "df = pd.DataFrame(x_y_data, columns=[\"Feature1\", \"Feature2\", \"Class\"])\n",
    "df1 = pd.DataFrame(x_y_train_data, columns=[\"Feature1\", \"Feature2\", \"Class\"])\n",
    "df2 = pd.DataFrame(x_y_test_data, columns=[\"Feature1\", \"Feature2\", \"Class\"])"
   ]
  },
  {
   "cell_type": "markdown",
   "id": "47715466",
   "metadata": {},
   "source": [
    "<h3>Create data, train and test csv files</h3>"
   ]
  },
  {
   "cell_type": "code",
   "execution_count": 8,
   "id": "a8fcce1e",
   "metadata": {},
   "outputs": [
    {
     "data": {
      "application/javascript": [
       "\n",
       "            setTimeout(function() {\n",
       "                var nbb_cell_id = 8;\n",
       "                var nbb_unformatted_code = \"df.to_csv(\\\"data.csv\\\",encoding='utf-8',index=False)\\ndf1.to_csv(\\\"train.csv\\\", encoding='utf-8',index=False)\\ndf2.to_csv(\\\"test.csv\\\",encoding='utf-8',index=False)\";\n",
       "                var nbb_formatted_code = \"df.to_csv(\\\"data.csv\\\", encoding=\\\"utf-8\\\", index=False)\\ndf1.to_csv(\\\"train.csv\\\", encoding=\\\"utf-8\\\", index=False)\\ndf2.to_csv(\\\"test.csv\\\", encoding=\\\"utf-8\\\", index=False)\";\n",
       "                var nbb_cells = Jupyter.notebook.get_cells();\n",
       "                for (var i = 0; i < nbb_cells.length; ++i) {\n",
       "                    if (nbb_cells[i].input_prompt_number == nbb_cell_id) {\n",
       "                        if (nbb_cells[i].get_text() == nbb_unformatted_code) {\n",
       "                             nbb_cells[i].set_text(nbb_formatted_code);\n",
       "                        }\n",
       "                        break;\n",
       "                    }\n",
       "                }\n",
       "            }, 500);\n",
       "            "
      ],
      "text/plain": [
       "<IPython.core.display.Javascript object>"
      ]
     },
     "metadata": {},
     "output_type": "display_data"
    }
   ],
   "source": [
    "df.to_csv(\"data.csv\", encoding=\"utf-8\", index=False)\n",
    "df1.to_csv(\"train.csv\", encoding=\"utf-8\", index=False)\n",
    "df2.to_csv(\"test.csv\", encoding=\"utf-8\", index=False)"
   ]
  },
  {
   "cell_type": "markdown",
   "id": "67410098",
   "metadata": {},
   "source": [
    "<h3>Load data from csv file to pandas dataframe</h3>"
   ]
  },
  {
   "cell_type": "code",
   "execution_count": 9,
   "id": "d49c7a82",
   "metadata": {},
   "outputs": [
    {
     "data": {
      "application/javascript": [
       "\n",
       "            setTimeout(function() {\n",
       "                var nbb_cell_id = 9;\n",
       "                var nbb_unformatted_code = \"dfL = pd.read_csv(\\\"data.csv\\\")\\ndfL1 = pd.read_csv(\\\"train.csv\\\")\\ndfL2 = pd.read_csv(\\\"test.csv\\\")\";\n",
       "                var nbb_formatted_code = \"dfL = pd.read_csv(\\\"data.csv\\\")\\ndfL1 = pd.read_csv(\\\"train.csv\\\")\\ndfL2 = pd.read_csv(\\\"test.csv\\\")\";\n",
       "                var nbb_cells = Jupyter.notebook.get_cells();\n",
       "                for (var i = 0; i < nbb_cells.length; ++i) {\n",
       "                    if (nbb_cells[i].input_prompt_number == nbb_cell_id) {\n",
       "                        if (nbb_cells[i].get_text() == nbb_unformatted_code) {\n",
       "                             nbb_cells[i].set_text(nbb_formatted_code);\n",
       "                        }\n",
       "                        break;\n",
       "                    }\n",
       "                }\n",
       "            }, 500);\n",
       "            "
      ],
      "text/plain": [
       "<IPython.core.display.Javascript object>"
      ]
     },
     "metadata": {},
     "output_type": "display_data"
    }
   ],
   "source": [
    "dfL = pd.read_csv(\"data.csv\")\n",
    "dfL1 = pd.read_csv(\"train.csv\")\n",
    "dfL2 = pd.read_csv(\"test.csv\")"
   ]
  },
  {
   "cell_type": "code",
   "execution_count": 10,
   "id": "094e763b",
   "metadata": {},
   "outputs": [
    {
     "name": "stdout",
     "output_type": "stream",
     "text": [
      "   Feature1  Feature2  Class\n",
      "0 -1.276170 -1.152297      1\n",
      "1  0.753625 -0.895236      0\n",
      "2  0.234409 -1.237923      0\n",
      "3  0.952106 -0.243341      0\n",
      "4 -1.829390 -0.740009      1\n"
     ]
    },
    {
     "data": {
      "application/javascript": [
       "\n",
       "            setTimeout(function() {\n",
       "                var nbb_cell_id = 10;\n",
       "                var nbb_unformatted_code = \"print(dfL.head())\";\n",
       "                var nbb_formatted_code = \"print(dfL.head())\";\n",
       "                var nbb_cells = Jupyter.notebook.get_cells();\n",
       "                for (var i = 0; i < nbb_cells.length; ++i) {\n",
       "                    if (nbb_cells[i].input_prompt_number == nbb_cell_id) {\n",
       "                        if (nbb_cells[i].get_text() == nbb_unformatted_code) {\n",
       "                             nbb_cells[i].set_text(nbb_formatted_code);\n",
       "                        }\n",
       "                        break;\n",
       "                    }\n",
       "                }\n",
       "            }, 500);\n",
       "            "
      ],
      "text/plain": [
       "<IPython.core.display.Javascript object>"
      ]
     },
     "metadata": {},
     "output_type": "display_data"
    }
   ],
   "source": [
    "print(dfL.head())"
   ]
  }
 ],
 "metadata": {
  "kernelspec": {
   "display_name": "Python 3 (ipykernel)",
   "language": "python",
   "name": "python3"
  },
  "language_info": {
   "codemirror_mode": {
    "name": "ipython",
    "version": 3
   },
   "file_extension": ".py",
   "mimetype": "text/x-python",
   "name": "python",
   "nbconvert_exporter": "python",
   "pygments_lexer": "ipython3",
   "version": "3.9.13"
  }
 },
 "nbformat": 4,
 "nbformat_minor": 5
}
