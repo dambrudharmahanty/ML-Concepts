{
 "cells": [
  {
   "cell_type": "markdown",
   "id": "15d5b807",
   "metadata": {},
   "source": [
    "# Create dataset and save in csv file"
   ]
  },
  {
   "cell_type": "markdown",
   "id": "b26f2cbb",
   "metadata": {},
   "source": [
    "###### Objective:\n",
    "    1. Import libraries\n",
    "    2. Generate random 2-class classification data\n",
    "    3. Plotting all points in scatter plot\n",
    "    4. Split data into train-test 70-30 respectively\n",
    "    5. Merge x and y data by using zip()\n",
    "    6. Create Dataframe with column name Feature1, Feature2 and Class\n",
    "    7. Save data, train and test csv files\n",
    "    "
   ]
  },
  {
   "cell_type": "markdown",
   "id": "e875f151",
   "metadata": {},
   "source": [
    "### Import and configure libraries"
   ]
  },
  {
   "cell_type": "code",
   "execution_count": 1,
   "id": "81bcadae",
   "metadata": {},
   "outputs": [
    {
     "name": "stdout",
     "output_type": "stream",
     "text": [
      "Pandas version: 1.5.2\n",
      "Matplotlib version: 3.6.2\n",
      "Sklearn version: 1.0.2\n"
     ]
    }
   ],
   "source": [
    "# Data manipulation libraries\n",
    "import pandas as pd\n",
    "\n",
    "# Data visualization libraries\n",
    "import matplotlib\n",
    "import matplotlib.pyplot as plt\n",
    "\n",
    "# Data modeling libraries\n",
    "import sklearn\n",
    "from sklearn.datasets import make_classification\n",
    "from sklearn.model_selection import train_test_split\n",
    "\n",
    "\n",
    "# Library versions used\n",
    "print(\"Pandas version:\", pd.__version__)\n",
    "print(\"Matplotlib version:\", matplotlib.__version__)\n",
    "print(\"Sklearn version:\", sklearn.__version__)"
   ]
  },
  {
   "cell_type": "markdown",
   "id": "1fb86a31",
   "metadata": {},
   "source": [
    "### Generate a random 2-class classification data"
   ]
  },
  {
   "cell_type": "code",
   "execution_count": 2,
   "id": "3f91a678",
   "metadata": {},
   "outputs": [],
   "source": [
    "x, y = make_classification(\n",
    "    n_samples=100,\n",
    "    n_features=2,\n",
    "    n_classes=2,\n",
    "    n_informative=2,\n",
    "    n_redundant=0,\n",
    "    n_clusters_per_class=1,\n",
    "    random_state=23,\n",
    ")"
   ]
  },
  {
   "cell_type": "markdown",
   "id": "148d3ff9",
   "metadata": {},
   "source": [
    "<h3>Plotting all the points in scatter plot</h3>"
   ]
  },
  {
   "cell_type": "code",
   "execution_count": 3,
   "id": "42bf4f3d",
   "metadata": {},
   "outputs": [
    {
     "data": {
      "image/png": "[encoded data removed]",
      "text/plain": [
       "<Figure size 640x480 with 1 Axes>"
      ]
     },
     "metadata": {},
     "output_type": "display_data"
    }
   ],
   "source": [
    "plt.scatter(x[:, 0], x[:, 1], c=y)\n",
    "plt.savefig(\"./Output/classified-data-points.png\")\n",
    "plt.show()"
   ]
  },
  {
   "cell_type": "markdown",
   "id": "3301883b",
   "metadata": {},
   "source": [
    "<h3>Split train-test data in 70-30 respectively</h3>"
   ]
  },
  {
   "cell_type": "code",
   "execution_count": 4,
   "id": "ec7b5af1",
   "metadata": {},
   "outputs": [],
   "source": [
    "X_train, X_test, y_train, y_test = train_test_split(\n",
    "    x, y, stratify=y, random_state=42, test_size=30\n",
    ")"
   ]
  },
  {
   "cell_type": "markdown",
   "id": "c1a3403c",
   "metadata": {},
   "source": [
    "<h3>Merge x and y data by using zip()</h3>"
   ]
  },
  {
   "cell_type": "code",
   "execution_count": 5,
   "id": "d2ad1e39",
   "metadata": {},
   "outputs": [],
   "source": [
    "x_y_data = list(zip(x[:, 0], x[:, 1], y))\n",
    "x_y_train_data = list(zip(X_train[:, 0], X_train[:, 1], y_train))\n",
    "x_y_test_data = list(zip(X_test[:, 0], X_test[:, 1], y_test))"
   ]
  },
  {
   "cell_type": "markdown",
   "id": "c11e8954",
   "metadata": {},
   "source": [
    "### Create Dataframe with column name Feature1, Feature2 and Class"
   ]
  },
  {
   "cell_type": "code",
   "execution_count": 6,
   "id": "1952c16f",
   "metadata": {},
   "outputs": [],
   "source": [
    "df = pd.DataFrame(x_y_data, columns=[\"Feature1\", \"Feature2\", \"Class\"])\n",
    "df1 = pd.DataFrame(x_y_train_data, columns=[\"Feature1\", \"Feature2\", \"Class\"])\n",
    "df2 = pd.DataFrame(x_y_test_data, columns=[\"Feature1\", \"Feature2\", \"Class\"])"
   ]
  },
  {
   "cell_type": "markdown",
   "id": "47715466",
   "metadata": {},
   "source": [
    "### Save data, train and test csv files"
   ]
  },
  {
   "cell_type": "code",
   "execution_count": 7,
   "id": "a8fcce1e",
   "metadata": {},
   "outputs": [],
   "source": [
    "df.to_csv(\"./Output/data.csv\", encoding=\"utf-8\", index=False)\n",
    "df1.to_csv(\"./Output/train.csv\", encoding=\"utf-8\", index=False)\n",
    "df2.to_csv(\"./Output/test.csv\", encoding=\"utf-8\", index=False)"
   ]
  },
  {
   "cell_type": "markdown",
   "id": "67410098",
   "metadata": {},
   "source": [
    "<h3>Load data from csv file to pandas dataframe</h3>"
   ]
  },
  {
   "cell_type": "code",
   "execution_count": 8,
   "id": "d49c7a82",
   "metadata": {},
   "outputs": [],
   "source": [
    "dfL = pd.read_csv(\"./Output/data.csv\")\n",
    "dfL1 = pd.read_csv(\"./Output/train.csv\")\n",
    "dfL2 = pd.read_csv(\"./Output/test.csv\")"
   ]
  },
  {
   "cell_type": "code",
   "execution_count": 9,
   "id": "094e763b",
   "metadata": {},
   "outputs": [
    {
     "name": "stdout",
     "output_type": "stream",
     "text": [
      "   Feature1  Feature2  Class\n",
      "0 -1.276170 -1.152297      1\n",
      "1  0.753625 -0.895236      0\n",
      "2  0.234409 -1.237923      0\n",
      "3  0.952106 -0.243341      0\n",
      "4 -1.829390 -0.740009      1\n"
     ]
    }
   ],
   "source": [
    "print(dfL.head())"
   ]
  }
 ],
 "metadata": {
  "kernelspec": {
   "display_name": "Python 3 (ipykernel)",
   "language": "python",
   "name": "python3"
  },
  "language_info": {
   "codemirror_mode": {
    "name": "ipython",
    "version": 3
   },
   "file_extension": ".py",
   "mimetype": "text/x-python",
   "name": "python",
   "nbconvert_exporter": "python",
   "pygments_lexer": "ipython3",
   "version": "3.9.13"
  }
 },
 "nbformat": 4,
 "nbformat_minor": 5
}
